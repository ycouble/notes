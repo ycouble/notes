{
 "cells": [
  {
   "cell_type": "markdown",
   "metadata": {},
   "source": [
    "# So you want to be a Python expert ?\n",
    "Talk by James Powell: https://www.youtube.com/watch?v=cKPlPJyQrt4\n",
    "\n",
    "## Topics\n",
    "- Python data-model\n",
    "- Decorators\n",
    "- Generators\n",
    "- Meta classes\n",
    "- Context Managers"
   ]
  },
  {
   "cell_type": "markdown",
   "metadata": {},
   "source": [
    "## Python data-model\n",
    "Python is entirely inspectable and has a very linear execution pattern (everything is read from top to bottom).\n",
    "The language makes it very easy to define operations, and to define different behaviours for any object."
   ]
  },
  {
   "cell_type": "code",
   "execution_count": 21,
   "metadata": {},
   "outputs": [],
   "source": [
    "class Summer:\n",
    "    def __init__(self, *args):\n",
    "        self.coefs = list(args)\n",
    "    \n",
    "    # It is possible to define a __call__ function so that the object is callable\n",
    "    def __call__(self):\n",
    "        return sum(self.coefs)\n",
    "    \n",
    "    # To be able to use built-in operators you may define these operation \n",
    "    # with the corresponding \"dunder\" (double under) method\n",
    "    def __add__(self, other):\n",
    "        return Summer(*(self.coefs + other.coefs))\n",
    "    \n",
    "    def __repr__(self):\n",
    "        return (f\"Summer({self.coefs})\")"
   ]
  },
  {
   "cell_type": "code",
   "execution_count": 22,
   "metadata": {},
   "outputs": [
    {
     "name": "stdout",
     "output_type": "stream",
     "text": [
      "Summer([1, 4, 5, 3, 10]) 23 Summer([1, 4, 5, 3, 10, 1, 4, 5, 3, 10]) 46\n"
     ]
    }
   ],
   "source": [
    "a = Summer(1,4,5,3,10)\n",
    "print(a, a(), a+a, (a+a)())"
   ]
  },
  {
   "cell_type": "markdown",
   "metadata": {},
   "source": [
    "Therefore, there is very limited difference between an empty object with a `__call__` method and a function."
   ]
  },
  {
   "cell_type": "code",
   "execution_count": 24,
   "metadata": {},
   "outputs": [],
   "source": [
    "# In Object defined function\n",
    "class Adder:\n",
    "    def __call__(self, x, y):\n",
    "        return x + y\n",
    "add_obj = Adder()\n",
    "\n",
    "# Function\n",
    "def add(x, y):\n",
    "    return x + y"
   ]
  },
  {
   "cell_type": "code",
   "execution_count": 27,
   "metadata": {},
   "outputs": [
    {
     "name": "stdout",
     "output_type": "stream",
     "text": [
      "<__main__.Adder object at 0x111ccc588> <function add at 0x111cd56a8>\n",
      "30 30\n"
     ]
    }
   ],
   "source": [
    "print(add_obj, add)\n",
    "print(add_obj(10, 20), add(10, 20))"
   ]
  },
  {
   "cell_type": "markdown",
   "metadata": {},
   "source": [
    "## Decorators\n",
    "Decorators are a syntaxic sugar of Python to define a function to wrap around any kind of function. Their main goal is to factor code and make it easier to maintain wrapping functions"
   ]
  },
  {
   "cell_type": "code",
   "execution_count": 28,
   "metadata": {},
   "outputs": [
    {
     "name": "stdout",
     "output_type": "stream",
     "text": [
      "30\n",
      "-10\n",
      "200\n"
     ]
    }
   ],
   "source": [
    "def add(x, y):\n",
    "    return x + y\n",
    "def sub(x, y):\n",
    "    return x - y\n",
    "def mult(x, y):\n",
    "    return x * y\n",
    "\n",
    "print(add(10, 20))\n",
    "print(sub(10, 20))\n",
    "print(mult(10, 20))"
   ]
  },
  {
   "cell_type": "markdown",
   "metadata": {},
   "source": [
    "For example if you want to debug this simple code, by printing the inputs and their types before executing the function, you could put the code in each function like this:"
   ]
  },
  {
   "cell_type": "code",
   "execution_count": 29,
   "metadata": {},
   "outputs": [
    {
     "name": "stdout",
     "output_type": "stream",
     "text": [
      "10 20\n",
      "30\n",
      "10 20\n",
      "-10\n",
      "10 20\n",
      "200\n"
     ]
    }
   ],
   "source": [
    "def add(x, y):\n",
    "    print(x, y)\n",
    "    return x + y\n",
    "def sub(x, y):\n",
    "    print(x, y)\n",
    "    return x - y\n",
    "def mult(x, y):\n",
    "    print(x, y)\n",
    "    return x * y\n",
    "\n",
    "print(add(10, 20))\n",
    "print(sub(10, 20))\n",
    "print(mult(10, 20))"
   ]
  },
  {
   "cell_type": "markdown",
   "metadata": {},
   "source": [
    "Or, you can define a function that, given a function, prints the inputs before returning the result of the function"
   ]
  },
  {
   "cell_type": "code",
   "execution_count": 32,
   "metadata": {},
   "outputs": [
    {
     "name": "stdout",
     "output_type": "stream",
     "text": [
      "10 20\n",
      "30\n",
      "10 20\n",
      "-10\n",
      "10 20\n",
      "200\n"
     ]
    }
   ],
   "source": [
    "def printer(func):\n",
    "    def wrapper(*args):\n",
    "        print(*args)\n",
    "        return func(*args)\n",
    "    return wrapper\n",
    "\n",
    "def add(x, y):\n",
    "    return x + y\n",
    "add = printer(add)\n",
    "def sub(x, y):\n",
    "    return x - y\n",
    "sub = printer(sub)\n",
    "def mult(x, y):\n",
    "    return x * y\n",
    "mult = printer(mult)\n",
    "\n",
    "print(add(10, 20))\n",
    "print(sub(10, 20))\n",
    "print(mult(10, 20))"
   ]
  },
  {
   "cell_type": "markdown",
   "metadata": {},
   "source": [
    "And then, Python provides a syntactic sugar that does exactly these `add = printer(add)`, but more beautifully:"
   ]
  },
  {
   "cell_type": "code",
   "execution_count": 33,
   "metadata": {},
   "outputs": [
    {
     "name": "stdout",
     "output_type": "stream",
     "text": [
      "10 20\n",
      "30\n",
      "10 20\n",
      "-10\n",
      "10 20\n",
      "200\n"
     ]
    }
   ],
   "source": [
    "def printer(func):\n",
    "    def wrapper(*args):\n",
    "        print(*args)\n",
    "        return func(*args)\n",
    "    return wrapper\n",
    "\n",
    "@printer\n",
    "def add(x, y):\n",
    "    return x + y\n",
    "\n",
    "@printer\n",
    "def sub(x, y):\n",
    "    return x - y\n",
    "\n",
    "@printer\n",
    "def mult(x, y):\n",
    "    return x * y\n",
    "\n",
    "print(add(10, 20))\n",
    "print(sub(10, 20))\n",
    "print(mult(10, 20))"
   ]
  },
  {
   "cell_type": "code",
   "execution_count": null,
   "metadata": {},
   "outputs": [],
   "source": []
  }
 ],
 "metadata": {
  "kernelspec": {
   "display_name": "Python 3",
   "language": "python",
   "name": "python3"
  },
  "language_info": {
   "codemirror_mode": {
    "name": "ipython",
    "version": 3
   },
   "file_extension": ".py",
   "mimetype": "text/x-python",
   "name": "python",
   "nbconvert_exporter": "python",
   "pygments_lexer": "ipython3",
   "version": "3.7.0"
  }
 },
 "nbformat": 4,
 "nbformat_minor": 2
}
